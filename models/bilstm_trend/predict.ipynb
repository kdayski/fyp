{
 "cells": [
  {
   "cell_type": "code",
   "execution_count": 131,
   "metadata": {},
   "outputs": [],
   "source": [
    "import pandas as pd\n",
    "from pandas import DataFrame\n",
    "from pandas import concat\n",
    "from keras.models import load_model\n",
    "from sklearn.preprocessing import MinMaxScaler\n",
    "import numpy as np\n",
    "import joblib"
   ]
  },
  {
   "cell_type": "code",
   "execution_count": 132,
   "metadata": {},
   "outputs": [],
   "source": [
    "# Load and preprocess the data\n",
    "data_with_lagged = pd.read_csv(\"./saved/data_with_lagged.csv\", index_col=0) "
   ]
  },
  {
   "cell_type": "code",
   "execution_count": 133,
   "metadata": {},
   "outputs": [],
   "source": [
    "# Load the scaler and transform your data\n",
    "scaler = joblib.load('./saved/scaler.pkl')\n",
    "data_scaled = scaler.transform(data_with_lagged)"
   ]
  },
  {
   "cell_type": "code",
   "execution_count": 134,
   "metadata": {},
   "outputs": [
    {
     "name": "stdout",
     "output_type": "stream",
     "text": [
      "1/1 [==============================] - 0s 371ms/step\n",
      "1\n"
     ]
    }
   ],
   "source": [
    "n_lag = 7\n",
    "n_features = 5\n",
    "total_features = n_lag * n_features\n",
    "\n",
    "train_ratio = 0.85\n",
    "data_len = len(data_with_lagged)\n",
    "train_size = int(data_len*train_ratio)\n",
    "\n",
    "train_size = int(data_len-n_lag)\n",
    "\n",
    "train = data_with_lagged.iloc[:train_size]\n",
    "test = data_with_lagged.iloc[train_size:]\n",
    "\n",
    "xscaler = MinMaxScaler(feature_range=(0, 1))\n",
    "\n",
    "train = xscaler.fit_transform(train)\n",
    "test = xscaler.transform(test)\n",
    "test = test[:, :total_features]\n",
    "\n",
    "test_X = test[:, :total_features]\n",
    "test_X = test_X.reshape((test_X.shape[0], n_lag, n_features))\n",
    "\n",
    "#predict values for test data\n",
    "model = load_model('./saved/bilstm_model.h5')\n",
    "pred = model.predict(test_X)\n",
    "pred = np.argmax(pred, axis=1)\n",
    "print(pred[len(pred) - 1])"
   ]
  }
 ],
 "metadata": {
  "kernelspec": {
   "display_name": "fyp-env",
   "language": "python",
   "name": "python3"
  },
  "language_info": {
   "codemirror_mode": {
    "name": "ipython",
    "version": 3
   },
   "file_extension": ".py",
   "mimetype": "text/x-python",
   "name": "python",
   "nbconvert_exporter": "python",
   "pygments_lexer": "ipython3",
   "version": "3.10.11"
  }
 },
 "nbformat": 4,
 "nbformat_minor": 2
}
